{
 "cells": [
  {
   "cell_type": "markdown",
   "metadata": {
    "collapsed": true,
    "pycharm": {
     "name": "#%% md\n"
    }
   },
   "source": [
    "# Data Mining II Practical Assignment\n",
    "\n",
    "## Iván Marcelo Carrera Izurieta\n",
    "### Programa de Doutoramento em Ciência de Computadores FCUP.\n",
    "\n",
    "#### Predicting Cellular line - Drug Interactions as Recommender System\n",
    "This work presents an analysis for the relationships among cellular lines and pharmaceutical drugs.\n",
    "\n",
    "##### Web mining\n",
    "There are two main source databases for cellular lines: [Cellosaurus](https://web.expasy.org/cellosaurus/)\n",
    "and [ChEMBL](https://www.ebi.ac.uk/chembl/).\n",
    "First of all, we have to identify the cellular lines. File contains a list of cellular lines, with their synonyms"
   ]
  },
  {
   "cell_type": "code",
   "execution_count": 23,
   "metadata": {
    "pycharm": {
     "name": "#%%\n"
    }
   },
   "outputs": [
    {
     "name": "stdout",
     "output_type": "stream",
     "text": [
      "{'CVCL_1567': ['NCI-H522', 'H522', 'NCIH522', 'H-522', 'NCI.H522', 'NCI522', 'CHEMBL3308392', 'NCI-522']}\n",
      "{'CVCL_1180': ['DOK', 'Dysplastic Oral Keratinocyte', 'CHEMBL3308727']}\n",
      "{'CVCL_0382': ['L1210', 'Leukemic 1210', 'L 1210', 'Leukemia L1210', 'Leukemia 1210', 'CHEMBL3308391', 'L-1210']}\n",
      "{'CVCL_0554': ['T24', 'T-24', 'CHEMBL3307700', 'T 24']}\n",
      "{'CVCL_1786': ['VMCub1', 'VM-CUB-I', 'VM-CUB-1', 'VM Cub 1', 'CHEMBL3308476', 'VMCUB1', 'VM-CUB1', 'VMCUB-1']}\n",
      "{'CVCL_1256': ['HCC1599', 'CHEMBL3308262', 'HCC-1599']}\n",
      "{'CVCL_1399': ['MC 116', 'MC-116', 'MC116', 'CHEMBL3308210']}\n",
      "{'CVCL_1084': ['BFTC909', 'BFTC 909', 'BFTC-909', 'CHEMBL3308710']}\n",
      "{'CVCL_1527': ['NCIH2107', 'H2107', 'NCI-H2107', 'H-2107']}\n",
      "{'CVCL_0076': ['CHEMBL3307273', 'SNU16', 'SNU-16', 'NCI-SNU-16']}\n"
     ]
    }
   ],
   "source": [
    "import json\n",
    "filename = 'data/cell_list.json'\n",
    "cell_list = json.load(open(filename,'r'))\n",
    "# print first 10 elements\n",
    "for cell in cell_list[:10]:\n",
    "    print(cell)"
   ]
  },
  {
   "cell_type": "markdown",
   "metadata": {
    "pycharm": {
     "name": "#%% md\n"
    }
   },
   "source": [
    "In order to form a corpus, we first have to retrieve all the paper abstracts from [PubMed](https://www.ncbi.nlm.nih.gov/pubmed/).\n",
    "PubMed has an API for retrieving papers included in the `Biopython` library. API access needs a key.\n",
    "\n",
    "Also, once the abstracts are retrieved, we can store them in memory as a dictionary."
   ]
  },
  {
   "cell_type": "code",
   "execution_count": 24,
   "metadata": {
    "pycharm": {
     "name": "#%%\n"
    }
   },
   "outputs": [],
   "source": [
    "# a few methods for parsing information\n",
    "# replace special chars\n",
    "def replace_spchars(original_string):\n",
    "    # new_string = original_string.encode('ascii', errors='ignore')\n",
    "    for c in ['\\n', '>', '<', '&', '(', ')', '[', ']', '%', '=', ',', '.', '+', '\\\\', '/']:\n",
    "        new_string = original_string.replace(c, ' ')\n",
    "    return new_string\n",
    "\n",
    "# transform an abstract from text to a dictionary\n",
    "def to_dict(abstract_string, cell_name):\n",
    "    abstract_ = dict()\n",
    "    doc_list = abstract_string.split('\\n\\n')\n",
    "    title = doc_list[1]\n",
    "    try:\n",
    "        title = title.replace('\\n', ' ')\n",
    "    except:\n",
    "        pass\n",
    "    title = replace_spchars(title)\n",
    "    len_list = []\n",
    "    for item in doc_list:\n",
    "        len_list.append(len(item))\n",
    "        if 'PMID:' in item:\n",
    "            item = item.split('PMID:')[1]\n",
    "            try:\n",
    "                item = item.replace(' [Indexed for MEDLINE]', '')\n",
    "            except:\n",
    "                pass\n",
    "            item = item.replace(' ', '')\n",
    "            index = 'PMID:' + item\n",
    "    # abstract should be the biggest item of doc_list\n",
    "    abstract = doc_list[len_list.index(max(len_list))]\n",
    "    abstract = replace_spchars(abstract).replace('\\n', ' ')\n",
    "    if abstract.startswith('Author information:'):\n",
    "        abstract = ''\n",
    "    abstract = (title + ' ' + abstract)\n",
    "    abstract_['title'] = title\n",
    "    abstract_['index'] = index\n",
    "    abstract_['document'] = abstract\n",
    "    abstract_['cell_id'] = cell_name\n",
    "    return abstract_"
   ]
  },
  {
   "cell_type": "markdown",
   "metadata": {
    "pycharm": {
     "name": "#%% md\n"
    }
   },
   "source": [
    "`Biopython` includes the `Entrez` library for accessing PubMed"
   ]
  },
  {
   "cell_type": "code",
   "execution_count": 31,
   "metadata": {
    "pycharm": {
     "name": "#%%\n"
    }
   },
   "outputs": [],
   "source": [
    "from Bio import Entrez\n",
    "import time\n",
    "import os\n",
    "# list_toquery transforms the list of synonyms into a query\n",
    "def list_toquery(list_):\n",
    "    string = ''\n",
    "    if list_ is None:\n",
    "        print('List is NONE')\n",
    "    if type(list_) is str:\n",
    "        list_ = [list_]\n",
    "    for element in list_:\n",
    "        if element is None:\n",
    "            x = ''\n",
    "        else:\n",
    "            x = str(element)\n",
    "        if x != '':\n",
    "            string = string + '(\"' + x + '\"[Title/Abstract]) OR '\n",
    "    return string[:-4] + ' AND ((cell line[Title/Abstract]) OR (cellular line[Title/Abstract]) OR ' \\\n",
    "                         '(cell-line[Title/Abstract]))'\n",
    "\n",
    "# query returns a list of PubMed IDs\n",
    "def search_idlist(query):\n",
    "    Entrez.email = 'ivan.carrera@epn.edu.ec'\n",
    "    Entrez.api_key = 'e0cd8267acda02738ba691d40bda130c4808'\n",
    "    try:\n",
    "        handle = Entrez.esearch(db='pubmed', sort='relevance', retmax='5000', retmode='xml', term=query)\n",
    "        results = Entrez.read(handle)\n",
    "    except Exception as e:\n",
    "        print('Something is happening with queries about: ', query, e)\n",
    "        time.sleep(2) # this sleep is performed when PubMed servers reject queries\n",
    "        return search_idlist(query)\n",
    "    return results['IdList']\n",
    "\n",
    "# once you have a PubMed ID, you can retrieve the abstract\n",
    "def get_abstract(pmid):\n",
    "    Entrez.api_key = 'e0cd8267acda02738ba691d40bda130c4808'\n",
    "    try:\n",
    "        handle = Entrez.efetch(db='pubmed', id=pmid, retmode='text', rettype='abstract')\n",
    "        return handle.read()\n",
    "    except Exception as e:\n",
    "        print(pmid, e)\n",
    "\n",
    "# abstracts have to be processed and stored\n",
    "def process_abstracts(cell_):\n",
    "    file_prefix = 'data/cell_json/cell_abstracts_'\n",
    "    cell_id = list(cell_.keys())[0]\n",
    "    if os.path.exists(file_prefix + replace_spchars(cell_id) + '.json'):\n",
    "        print(cell_id, 'already exists')\n",
    "        pass\n",
    "    else:\n",
    "        #global gene_list\n",
    "        cell_abstracts = dict()\n",
    "        keyword_list = list(cell_.values())[0]\n",
    "        query = list_toquery(keyword_list)\n",
    "        idlist = search_idlist(query)\n",
    "        # print(cell_id, len(idlist), 'abstracts')\n",
    "        cell_abstracts['cell_id'] = cell_id\n",
    "        cell_abstracts['documents'] = list()\n",
    "        try:\n",
    "            for id_item in idlist:\n",
    "                abstract_text = get_abstract(id_item)\n",
    "                abstract_dict = to_dict(abstract_text, cell_name=cell_id)\n",
    "                cell_abstracts['documents'].append(abstract_dict)\n",
    "        except Exception as e:\n",
    "            print('Parsing error', e)\n",
    "            pass\n",
    "\n",
    "        json.dump(cell_abstracts, fp=open(file_prefix + replace_spchars(cell_id) + '.json', 'w'))\n",
    "        # print('got', len(cell_abstracts['documents']), 'abstracts to JSON file')"
   ]
  },
  {
   "cell_type": "markdown",
   "metadata": {
    "pycharm": {
     "name": "#%% md\n"
    }
   },
   "source": [
    "Methods are defined. It is time for us to retrieve all abstracts.\n",
    "In parallel, because this can be very time consuming."
   ]
  },
  {
   "cell_type": "code",
   "execution_count": 32,
   "metadata": {
    "pycharm": {
     "name": "#%%\n"
    }
   },
   "outputs": [
    {
     "name": "stdout",
     "output_type": "stream",
     "text": [
      "CVCL_1567 already exists\n",
      "CVCL_1180 already exists\n",
      "CVCL_0382 already exists\n",
      "CVCL_0554 already exists\n",
      "CVCL_1786 already exists\n",
      "CVCL_1256 already exists\n",
      "CVCL_1399 already exists\n",
      "CVCL_1084 already exists\n",
      "CVCL_1527 already exists\n",
      "CVCL_0076 already exists\n",
      "Abstract retrieving time: 0.011s\n"
     ]
    }
   ],
   "source": [
    "# this should be done in parallel\n",
    "# Binder does not support multiprocessing package\n",
    "from time import time\n",
    "t0 = time()\n",
    "# Only retrieving 10 first cell lines\n",
    "for cell_ in cell_list[:10]:\n",
    "    process_abstracts(cell_)\n",
    "retrieve_time = time() - t0\n",
    "print(\"Abstract retrieving time: %0.3fs\" % retrieve_time)"
   ]
  },
  {
   "cell_type": "markdown",
   "metadata": {
    "pycharm": {
     "name": "#%% md\n"
    }
   },
   "source": [
    "##### Text mining\n",
    "##### Text pre-processing\n",
    "We have a list of files. One file per cellular line. Each file contains a document for each abstract."
   ]
  },
  {
   "cell_type": "code",
   "execution_count": 33,
   "metadata": {
    "pycharm": {
     "name": "#%%\n"
    }
   },
   "outputs": [
    {
     "name": "stdout",
     "output_type": "stream",
     "text": [
      "684.5 files\n",
      "An example:\n",
      "{\"cell_id\": \"A2780 cisR\", \"documents\": [{\"title\": \"Changes in the in vitro activity of platinum drugs when administered in two aliquots.\", \"index\": \"PMID:27566066\", \"document\": \"Changes in the in vitro activity of platinum drugs when administered in two aliquots. BACKGROUND: The management of ovarian cancer remains a challenge. Because of the  lack of early symptoms, it is often diagnosed at a late stage when it is likely to have metastasized beyond ovaries. Currently, platinum based chemotherapy is the primary treatment for the disease. However acquired drug resistance remains an on-going problem. As cisplatin brings about apoptosis by intrinsic and extrinsic pathways, this study aimed to determine changes in activity of platinum drugs when administered in two aliquots as against a bolus and sought to determine association with changes in GSH, speciation of platinum drugs and changes in protein expression. METHODS: The efficacy of administering cisplatin, carboplatin and oxaliplatin i\n"
     ]
    }
   ],
   "source": [
    "import os\n",
    "#filedir = '/home/ivan/ccap/data/cell_json/'\n",
    "filedir = 'C:\\\\Users\\\\ivanc\\\\PycharmProjects\\\\ccap\\\\data\\\\cell_json\\\\'\n",
    "filelist = os.listdir(filedir)\n",
    "print(len(filelist)/2, 'files')\n",
    "print('An example:')\n",
    "with open(filedir + filelist[0],'r') as f:\n",
    "    print(f.readline()[:1000])"
   ]
  },
  {
   "cell_type": "markdown",
   "metadata": {
    "pycharm": {
     "name": "#%% md\n"
    }
   },
   "source": [
    "Once we have the files, we can create a corpus.\n",
    "We retrieve all abstracts from the JSON files to form the corpus.\n",
    "For relevance, we inly select cellular lines with more than 10 abstracts."
   ]
  },
  {
   "cell_type": "code",
   "execution_count": 34,
   "metadata": {
    "pycharm": {
     "name": "#%%\n"
    }
   },
   "outputs": [
    {
     "name": "stdout",
     "output_type": "stream",
     "text": [
      "5752 documents in corpus, from 240 cell lines\n"
     ]
    }
   ],
   "source": [
    "import json\n",
    "import logging\n",
    "# Display progress logs on stdout\n",
    "logging.basicConfig(level=logging.INFO,\n",
    "                    format='%(asctime)s %(levelname)s %(message)s')\n",
    "\n",
    "corpus = list()\n",
    "cell_class_list = list()\n",
    "for file in filelist:\n",
    "    if file.startswith('cell_abstracts_'):\n",
    "        cell = json.load(fp=open(filedir + file,'r'))\n",
    "        cell_id = cell['cell_id']\n",
    "        n_documents = len(cell['documents'])\n",
    "        # print(file, n_documents)\n",
    "        # Use only if cell line has at least 10 abstracts\n",
    "        if int(n_documents) > 10:\n",
    "            for document in cell['documents']:\n",
    "                abstract = document['document']\n",
    "                index = document['index']\n",
    "                corpus.append(abstract)\n",
    "                cell_class_list.append(cell_id)\n",
    "cell_set = set(cell_class_list)\n",
    "print(len(corpus), 'documents in corpus, from', len(cell_set), 'cell lines')"
   ]
  },
  {
   "cell_type": "markdown",
   "metadata": {
    "pycharm": {
     "name": "#%% md\n"
    }
   },
   "source": [
    "Corpus is now populated.\n",
    "Now, we want to process the abstracts with TF-IDF.\n",
    "We transform the corpus into a Document-Term Matrix."
   ]
  },
  {
   "cell_type": "code",
   "execution_count": 35,
   "metadata": {
    "pycharm": {
     "name": "#%%\n"
    }
   },
   "outputs": [
    {
     "name": "stdout",
     "output_type": "stream",
     "text": [
      "DTM shape: (5752, 14314)\n",
      "Top 20 words\n",
      "[('cell', 1.012946296985861), ('line', 1.0271334475144003), ('wa', 1.2550212229174793), ('studi', 1.5130878713156721), ('result', 1.5268287687027096), ('human', 1.5515655388767853), ('use', 1.5822051905658356), ('express', 1.5856335872541352), ('thi', 1.623818308977143), ('activ', 1.6431409995638697), ('effect', 1.6577981573638434), ('cancer', 1.716536974535502), ('induc', 1.931705295275342), ('inhibit', 1.9468234133620919), ('increas', 1.9644509884454053), ('protein', 1.9708554019186737), ('tumor', 2.0338347903517215), ('treatment', 2.1200467002767844), ('investig', 2.1269967416177566), ('level', 2.1475936757083796)]\n"
     ]
    }
   ],
   "source": [
    "from sklearn.feature_extraction.text import TfidfVectorizer\n",
    "from sklearn.model_selection import train_test_split\n",
    "\n",
    "from nltk.stem.porter import PorterStemmer\n",
    "from sklearn.feature_extraction.text import TfidfVectorizer\n",
    "\n",
    "stem = PorterStemmer()\n",
    "stemmed_corpus = list()\n",
    "for doc in corpus:\n",
    "    doc = doc.replace('.','').replace(',','').replace(';','').replace(':','')\n",
    "    stemmed_corpus.append(' '.join([stem.stem(x) for x in doc.split()]))\n",
    "\n",
    "target_names = list(cell_set)\n",
    "vectorizer = TfidfVectorizer(sublinear_tf=True, max_df=1.0, min_df=2, strip_accents='ascii', stop_words='english',\n",
    "                             token_pattern=u'(?ui)\\\\b\\\\w*[a-z]+\\\\w*\\\\b')\n",
    "dtm = vectorizer.fit_transform(stemmed_corpus)\n",
    "print('DTM shape:', dtm.shape)\n",
    "\n",
    "wordfreq = dict(zip(vectorizer.get_feature_names(), vectorizer.idf_))\n",
    "print('Top 20 words')\n",
    "print(sorted(wordfreq.items(), key=lambda x: x[1])[:20])"
   ]
  },
  {
   "cell_type": "markdown",
   "metadata": {
    "pycharm": {
     "name": "#%% md\n"
    }
   },
   "source": [
    "##### Document Classification\n",
    "We want to see if cellular lines have specific discriminant vocabulary.\n",
    "We divide `dtm` in trains and test sets."
   ]
  },
  {
   "cell_type": "code",
   "execution_count": 36,
   "metadata": {
    "pycharm": {
     "name": "#%%\n"
    }
   },
   "outputs": [],
   "source": [
    "# Divide in train and test sets\n",
    "X_train, X_test, y_train, y_test = train_test_split(dtm, cell_class_list, test_size=0.3, random_state=42,\n",
    "                                                    shuffle=True)\n",
    "# feature_names is the vocabulary of terms\n",
    "feature_names = vectorizer.get_feature_names()"
   ]
  },
  {
   "cell_type": "markdown",
   "metadata": {
    "pycharm": {
     "name": "#%% md\n"
    }
   },
   "source": [
    "We define a `benchmark` method to apply to several classification methods."
   ]
  },
  {
   "cell_type": "code",
   "execution_count": 37,
   "metadata": {
    "pycharm": {
     "name": "#%%\n"
    }
   },
   "outputs": [],
   "source": [
    "from sklearn.feature_selection import SelectFromModel\n",
    "from sklearn.linear_model import RidgeClassifier\n",
    "from sklearn.pipeline import Pipeline\n",
    "from sklearn.svm import LinearSVC\n",
    "from sklearn.linear_model import SGDClassifier\n",
    "from sklearn.linear_model import PassiveAggressiveClassifier\n",
    "from sklearn.neighbors import KNeighborsClassifier\n",
    "from sklearn.ensemble import RandomForestClassifier\n",
    "from sklearn import metrics\n",
    "from time import time\n",
    "\n",
    "def benchmark(clf, name):\n",
    "    print('_' * 80)\n",
    "    print(\"Training: \")\n",
    "    print(clf)\n",
    "    t0 = time()\n",
    "    clf.fit(X_train, y_train)\n",
    "    train_time = time() - t0\n",
    "    print(\"train time: %0.3fs\" % train_time)\n",
    "\n",
    "    t0 = time()\n",
    "    pred = clf.predict(X_test)\n",
    "    test_time = time() - t0\n",
    "    print(\"test time:  %0.3fs\" % test_time)\n",
    "\n",
    "    score = metrics.accuracy_score(y_test, pred)\n",
    "    print(\"accuracy:   %0.3f\" % score)\n",
    "\n",
    "    print(\"confusion matrix:\")\n",
    "    print(metrics.confusion_matrix(y_test, pred))\n",
    "\n",
    "    print()\n",
    "    # clf_descr = str(clf).split('(')[0]\n",
    "    return clf, name, score, train_time, test_time"
   ]
  },
  {
   "cell_type": "markdown",
   "metadata": {
    "pycharm": {
     "name": "#%% md\n"
    }
   },
   "source": [
    "We define 6 classification methods, some with variants:\n",
    "* Ridge Classifier\n",
    "* Passive-Aggressive\n",
    "* K Nearest Neighbors\n",
    "* Random Forest\n",
    "* Support Vector Machine\n",
    "* Stochastic Gradient Descent Classifier"
   ]
  },
  {
   "cell_type": "code",
   "execution_count": 38,
   "metadata": {
    "pycharm": {
     "name": "#%%\n"
    }
   },
   "outputs": [
    {
     "name": "stdout",
     "output_type": "stream",
     "text": [
      "================================================================================\n",
      "Ridge Classifier\n",
      "________________________________________________________________________________\n",
      "Training: \n",
      "RidgeClassifier(alpha=1.0, class_weight=None, copy_X=True, fit_intercept=True,\n",
      "                max_iter=None, normalize=False, random_state=None, solver='sag',\n",
      "                tol=0.01)\n"
     ]
    },
    {
     "name": "stderr",
     "output_type": "stream",
     "text": [
      "C:\\ProgramData\\Anaconda3\\lib\\site-packages\\sklearn\\linear_model\\_ridge.py:558: UserWarning: \"sag\" solver requires many iterations to fit an intercept with sparse inputs. Either set the solver to \"auto\" or \"sparse_cg\", or set a low \"tol\" and a high \"max_iter\" (especially if inputs are not standardized).\n",
      "  '\"sag\" solver requires many iterations to fit '\n"
     ]
    },
    {
     "name": "stdout",
     "output_type": "stream",
     "text": [
      "train time: 27.300s\n",
      "test time:  0.116s\n",
      "accuracy:   0.688\n",
      "confusion matrix:\n",
      "[[ 7  0  0 ...  0  0  0]\n",
      " [ 0  6  0 ...  0  0  0]\n",
      " [ 0  0 13 ...  0  0  0]\n",
      " ...\n",
      " [ 0  0  0 ...  4  0  0]\n",
      " [ 0  0  0 ...  0  8  0]\n",
      " [ 0  0  0 ...  0  0  8]]\n",
      "\n",
      "================================================================================\n",
      "Passive-Aggressive\n",
      "________________________________________________________________________________\n",
      "Training: \n",
      "PassiveAggressiveClassifier(C=1.0, average=False, class_weight=None,\n",
      "                            early_stopping=False, fit_intercept=True,\n",
      "                            loss='hinge', max_iter=50, n_iter_no_change=5,\n",
      "                            n_jobs=-1, random_state=None, shuffle=True,\n",
      "                            tol=0.001, validation_fraction=0.1, verbose=0,\n",
      "                            warm_start=False)\n",
      "train time: 2.142s\n",
      "test time:  0.163s\n",
      "accuracy:   0.661\n",
      "confusion matrix:\n",
      "[[ 7  0  0 ...  0  0  0]\n",
      " [ 0  5  0 ...  0  0  0]\n",
      " [ 0  0 13 ...  0  0  0]\n",
      " ...\n",
      " [ 0  0  0 ...  4  0  0]\n",
      " [ 0  0  0 ...  0  8  0]\n",
      " [ 0  0  0 ...  0  0  7]]\n",
      "\n",
      "================================================================================\n",
      "kNN\n",
      "________________________________________________________________________________\n",
      "Training: \n",
      "KNeighborsClassifier(algorithm='auto', leaf_size=30, metric='minkowski',\n",
      "                     metric_params=None, n_jobs=-1, n_neighbors=10, p=2,\n",
      "                     weights='uniform')\n",
      "train time: 0.021s\n",
      "test time:  0.814s\n",
      "accuracy:   0.445\n",
      "confusion matrix:\n",
      "[[ 7  0  0 ...  0  0  0]\n",
      " [ 0  4  0 ...  0  0  0]\n",
      " [ 0  0 13 ...  0  0  0]\n",
      " ...\n",
      " [ 0  0  0 ...  3  0  0]\n",
      " [ 0  0  0 ...  0  4  0]\n",
      " [ 0  0  0 ...  0  0  7]]\n",
      "\n",
      "================================================================================\n",
      "Random forest\n",
      "________________________________________________________________________________\n",
      "Training: \n",
      "RandomForestClassifier(bootstrap=True, ccp_alpha=0.0, class_weight=None,\n",
      "                       criterion='gini', max_depth=None, max_features='auto',\n",
      "                       max_leaf_nodes=None, max_samples=None,\n",
      "                       min_impurity_decrease=0.0, min_impurity_split=None,\n",
      "                       min_samples_leaf=1, min_samples_split=2,\n",
      "                       min_weight_fraction_leaf=0.0, n_estimators=100,\n",
      "                       n_jobs=-1, oob_score=False, random_state=None, verbose=0,\n",
      "                       warm_start=False)\n",
      "train time: 15.332s\n",
      "test time:  0.563s\n",
      "accuracy:   0.721\n",
      "confusion matrix:\n",
      "[[ 7  0  0 ...  0  0  0]\n",
      " [ 0  4  0 ...  0  0  0]\n",
      " [ 0  0 13 ...  0  0  0]\n",
      " ...\n",
      " [ 0  0  0 ...  4  0  0]\n",
      " [ 0  0  0 ...  0  9  0]\n",
      " [ 0  0  0 ...  0  0  7]]\n",
      "\n",
      "================================================================================\n",
      "LinearSVC L1\n",
      "________________________________________________________________________________\n",
      "Training: \n",
      "LinearSVC(C=1.0, class_weight=None, dual=False, fit_intercept=True,\n",
      "          intercept_scaling=1, loss='squared_hinge', max_iter=1000,\n",
      "          multi_class='ovr', penalty='l1', random_state=None, tol=0.001,\n",
      "          verbose=0)\n",
      "train time: 14.015s\n",
      "test time:  0.077s\n",
      "accuracy:   0.791\n",
      "confusion matrix:\n",
      "[[ 7  0  0 ...  0  0  0]\n",
      " [ 0  6  0 ...  0  0  0]\n",
      " [ 0  0 13 ...  0  0  0]\n",
      " ...\n",
      " [ 0  0  0 ...  3  0  0]\n",
      " [ 0  0  0 ...  0  7  0]\n",
      " [ 0  0  0 ...  0  0  7]]\n",
      "\n",
      "================================================================================\n",
      "LinearSVC L2\n",
      "________________________________________________________________________________\n",
      "Training: \n",
      "LinearSVC(C=1.0, class_weight=None, dual=False, fit_intercept=True,\n",
      "          intercept_scaling=1, loss='squared_hinge', max_iter=1000,\n",
      "          multi_class='ovr', penalty='l2', random_state=None, tol=0.001,\n",
      "          verbose=0)\n",
      "train time: 15.872s\n",
      "test time:  0.073s\n",
      "accuracy:   0.674\n",
      "confusion matrix:\n",
      "[[ 7  0  0 ...  0  0  0]\n",
      " [ 0  6  0 ...  0  0  0]\n",
      " [ 0  0 13 ...  0  0  0]\n",
      " ...\n",
      " [ 0  0  0 ...  4  0  0]\n",
      " [ 0  0  0 ...  0  8  0]\n",
      " [ 0  0  0 ...  0  0  7]]\n",
      "\n",
      "================================================================================\n",
      "SGDC L1\n",
      "________________________________________________________________________________\n",
      "Training: \n",
      "SGDClassifier(alpha=0.0001, average=False, class_weight=None,\n",
      "              early_stopping=False, epsilon=0.1, eta0=0.0, fit_intercept=True,\n",
      "              l1_ratio=0.15, learning_rate='optimal', loss='hinge', max_iter=50,\n",
      "              n_iter_no_change=5, n_jobs=-1, penalty='l1', power_t=0.5,\n",
      "              random_state=None, shuffle=True, tol=0.001,\n",
      "              validation_fraction=0.1, verbose=0, warm_start=False)\n",
      "train time: 2.867s\n",
      "test time:  0.130s\n",
      "accuracy:   0.747\n",
      "confusion matrix:\n",
      "[[ 7  0  0 ...  0  0  0]\n",
      " [ 0  4  0 ...  0  0  0]\n",
      " [ 0  0 13 ...  0  0  0]\n",
      " ...\n",
      " [ 0  0  0 ...  3  0  0]\n",
      " [ 0  0  0 ...  0  7  0]\n",
      " [ 0  0  0 ...  0  0  8]]\n",
      "\n",
      "================================================================================\n",
      "SGDC L2\n",
      "________________________________________________________________________________\n",
      "Training: \n",
      "SGDClassifier(alpha=0.0001, average=False, class_weight=None,\n",
      "              early_stopping=False, epsilon=0.1, eta0=0.0, fit_intercept=True,\n",
      "              l1_ratio=0.15, learning_rate='optimal', loss='hinge', max_iter=50,\n",
      "              n_iter_no_change=5, n_jobs=-1, penalty='l2', power_t=0.5,\n",
      "              random_state=None, shuffle=True, tol=0.001,\n",
      "              validation_fraction=0.1, verbose=0, warm_start=False)\n",
      "train time: 2.023s\n",
      "test time:  0.219s\n",
      "accuracy:   0.672\n",
      "confusion matrix:\n",
      "[[ 7  0  0 ...  0  0  0]\n",
      " [ 0  6  0 ...  0  0  0]\n",
      " [ 0  0 13 ...  0  0  0]\n",
      " ...\n",
      " [ 0  0  0 ...  4  0  0]\n",
      " [ 0  0  0 ...  0  8  0]\n",
      " [ 0  0  0 ...  0  0  7]]\n",
      "\n",
      "================================================================================\n",
      "SGDC Elastic\n",
      "________________________________________________________________________________\n",
      "Training: \n",
      "SGDClassifier(alpha=0.0001, average=False, class_weight=None,\n",
      "              early_stopping=False, epsilon=0.1, eta0=0.0, fit_intercept=True,\n",
      "              l1_ratio=0.15, learning_rate='optimal', loss='hinge', max_iter=50,\n",
      "              n_iter_no_change=5, n_jobs=-1, penalty='elasticnet', power_t=0.5,\n",
      "              random_state=None, shuffle=True, tol=0.001,\n",
      "              validation_fraction=0.1, verbose=0, warm_start=False)\n",
      "train time: 4.229s\n",
      "test time:  0.179s\n",
      "accuracy:   0.706\n",
      "confusion matrix:\n",
      "[[ 7  0  0 ...  0  0  0]\n",
      " [ 0  5  0 ...  0  0  0]\n",
      " [ 0  0 14 ...  0  0  0]\n",
      " ...\n",
      " [ 0  0  0 ...  3  0  0]\n",
      " [ 0  0  0 ...  0  8  0]\n",
      " [ 0  0  0 ...  0  0  7]]\n",
      "\n",
      "================================================================================\n",
      "LinearSVC with L1-based feature selection\n",
      "________________________________________________________________________________\n",
      "Training: \n",
      "Pipeline(memory=None,\n",
      "         steps=[('feature_selection',\n",
      "                 SelectFromModel(estimator=LinearSVC(C=1.0, class_weight=None,\n",
      "                                                     dual=False,\n",
      "                                                     fit_intercept=True,\n",
      "                                                     intercept_scaling=1,\n",
      "                                                     loss='squared_hinge',\n",
      "                                                     max_iter=1000,\n",
      "                                                     multi_class='ovr',\n",
      "                                                     penalty='l1',\n",
      "                                                     random_state=None,\n",
      "                                                     tol=0.001, verbose=0),\n",
      "                                 max_features=None, norm_order=1, prefit=False,\n",
      "                                 threshold=None)),\n",
      "                ('classification',\n",
      "                 LinearSVC(C=1.0, class_weight=None, dual=True,\n",
      "                           fit_intercept=True, intercept_scaling=1,\n",
      "                           loss='squared_hinge', max_iter=1000,\n",
      "                           multi_class='ovr', penalty='l2', random_state=None,\n",
      "                           tol=0.0001, verbose=0))],\n",
      "         verbose=False)\n",
      "train time: 17.553s\n",
      "test time:  0.058s\n",
      "accuracy:   0.731\n",
      "confusion matrix:\n",
      "[[ 7  0  0 ...  0  0  0]\n",
      " [ 0  6  0 ...  0  0  0]\n",
      " [ 0  0 14 ...  0  0  0]\n",
      " ...\n",
      " [ 0  0  0 ...  4  0  0]\n",
      " [ 0  0  0 ...  0  8  0]\n",
      " [ 0  0  0 ...  0  0  7]]\n",
      "\n",
      "================================================================================\n",
      "Sorted methods by score:\n",
      "[(LinearSVC(C=1.0, class_weight=None, dual=False, fit_intercept=True,\n",
      "          intercept_scaling=1, loss='squared_hinge', max_iter=1000,\n",
      "          multi_class='ovr', penalty='l1', random_state=None, tol=0.001,\n",
      "          verbose=0), 'LinearSVC L1', 0.7914252607184241, 14.014665126800537, 0.07701754570007324), (SGDClassifier(alpha=0.0001, average=False, class_weight=None,\n",
      "              early_stopping=False, epsilon=0.1, eta0=0.0, fit_intercept=True,\n",
      "              l1_ratio=0.15, learning_rate='optimal', loss='hinge', max_iter=50,\n",
      "              n_iter_no_change=5, n_jobs=-1, penalty='l1', power_t=0.5,\n",
      "              random_state=None, shuffle=True, tol=0.001,\n",
      "              validation_fraction=0.1, verbose=0, warm_start=False), 'SGDC L1', 0.7468134414831982, 2.8667197227478027, 0.13003325462341309), (Pipeline(memory=None,\n",
      "         steps=[('feature_selection',\n",
      "                 SelectFromModel(estimator=LinearSVC(C=1.0, class_weight=None,\n",
      "                                                     dual=False,\n",
      "                                                     fit_intercept=True,\n",
      "                                                     intercept_scaling=1,\n",
      "                                                     loss='squared_hinge',\n",
      "                                                     max_iter=1000,\n",
      "                                                     multi_class='ovr',\n",
      "                                                     penalty='l1',\n",
      "                                                     random_state=None,\n",
      "                                                     tol=0.001, verbose=0),\n",
      "                                 max_features=None, norm_order=1, prefit=False,\n",
      "                                 threshold=None)),\n",
      "                ('classification',\n",
      "                 LinearSVC(C=1.0, class_weight=None, dual=True,\n",
      "                           fit_intercept=True, intercept_scaling=1,\n",
      "                           loss='squared_hinge', max_iter=1000,\n",
      "                           multi_class='ovr', penalty='l2', random_state=None,\n",
      "                           tol=0.0001, verbose=0))],\n",
      "         verbose=False), 'LinearSVC with L1-based feature selection', 0.7305909617612978, 17.553405046463013, 0.057898759841918945), (RandomForestClassifier(bootstrap=True, ccp_alpha=0.0, class_weight=None,\n",
      "                       criterion='gini', max_depth=None, max_features='auto',\n",
      "                       max_leaf_nodes=None, max_samples=None,\n",
      "                       min_impurity_decrease=0.0, min_impurity_split=None,\n",
      "                       min_samples_leaf=1, min_samples_split=2,\n",
      "                       min_weight_fraction_leaf=0.0, n_estimators=100,\n",
      "                       n_jobs=-1, oob_score=False, random_state=None, verbose=0,\n",
      "                       warm_start=False), 'Random forest', 0.7213209733487833, 15.331809997558594, 0.5631504058837891), (SGDClassifier(alpha=0.0001, average=False, class_weight=None,\n",
      "              early_stopping=False, epsilon=0.1, eta0=0.0, fit_intercept=True,\n",
      "              l1_ratio=0.15, learning_rate='optimal', loss='hinge', max_iter=50,\n",
      "              n_iter_no_change=5, n_jobs=-1, penalty='elasticnet', power_t=0.5,\n",
      "              random_state=None, shuffle=True, tol=0.001,\n",
      "              validation_fraction=0.1, verbose=0, warm_start=False), 'SGDC Elastic', 0.7062572421784473, 4.229059457778931, 0.1790480613708496), (RidgeClassifier(alpha=1.0, class_weight=None, copy_X=True, fit_intercept=True,\n",
      "                max_iter=None, normalize=False, random_state=None, solver='sag',\n",
      "                tol=0.01), 'Ridge Classifier', 0.6877172653534183, 27.29985237121582, 0.11602973937988281), (LinearSVC(C=1.0, class_weight=None, dual=False, fit_intercept=True,\n",
      "          intercept_scaling=1, loss='squared_hinge', max_iter=1000,\n",
      "          multi_class='ovr', penalty='l2', random_state=None, tol=0.001,\n",
      "          verbose=0), 'LinearSVC L2', 0.6743916570104287, 15.871990203857422, 0.07301640510559082), (SGDClassifier(alpha=0.0001, average=False, class_weight=None,\n",
      "              early_stopping=False, epsilon=0.1, eta0=0.0, fit_intercept=True,\n",
      "              l1_ratio=0.15, learning_rate='optimal', loss='hinge', max_iter=50,\n",
      "              n_iter_no_change=5, n_jobs=-1, penalty='l2', power_t=0.5,\n",
      "              random_state=None, shuffle=True, tol=0.001,\n",
      "              validation_fraction=0.1, verbose=0, warm_start=False), 'SGDC L2', 0.6720741599073001, 2.022512674331665, 0.2190563678741455), (PassiveAggressiveClassifier(C=1.0, average=False, class_weight=None,\n",
      "                            early_stopping=False, fit_intercept=True,\n",
      "                            loss='hinge', max_iter=50, n_iter_no_change=5,\n",
      "                            n_jobs=-1, random_state=None, shuffle=True,\n",
      "                            tol=0.001, validation_fraction=0.1, verbose=0,\n",
      "                            warm_start=False), 'Passive-Aggressive', 0.6610660486674391, 2.1422955989837646, 0.16304373741149902), (KNeighborsClassifier(algorithm='auto', leaf_size=30, metric='minkowski',\n",
      "                     metric_params=None, n_jobs=-1, n_neighbors=10, p=2,\n",
      "                     weights='uniform'), 'kNN', 0.44495944380069524, 0.02100539207458496, 0.8143298625946045)]\n"
     ]
    }
   ],
   "source": [
    "results = []\n",
    "for clf, name in [\n",
    "        (RidgeClassifier(tol=1e-2, solver=\"sag\"), \"Ridge Classifier\"),\n",
    "        (PassiveAggressiveClassifier(max_iter=50, n_jobs=-1), \"Passive-Aggressive\"),\n",
    "        (KNeighborsClassifier(n_neighbors=10, n_jobs=-1), \"kNN\"),\n",
    "        (RandomForestClassifier(n_jobs=-1), \"Random forest\"),\n",
    "        (LinearSVC(penalty=\"l1\", dual=False, tol=1e-3), \"LinearSVC L1\"),\n",
    "        (LinearSVC(penalty=\"l2\", dual=False, tol=1e-3), \"LinearSVC L2\"),\n",
    "        (SGDClassifier(alpha=.0001, max_iter=50, penalty=\"l1\", n_jobs=-1), \"SGDC L1\"),\n",
    "        (SGDClassifier(alpha=.0001, max_iter=50, penalty=\"l2\", n_jobs=-1), \"SGDC L2\"),\n",
    "        (SGDClassifier(alpha=.0001, max_iter=50, penalty=\"elasticnet\", n_jobs=-1),\"SGDC Elastic\"),\n",
    "        (Pipeline([('feature_selection', SelectFromModel(LinearSVC(penalty=\"l1\", dual=False, tol=1e-3))),\n",
    "        ('classification', LinearSVC(penalty=\"l2\"))]), \"LinearSVC with L1-based feature selection\")\n",
    "]:\n",
    "    print('=' * 80)\n",
    "    print(name)\n",
    "    results.append(benchmark(clf, name))\n",
    "print('=' * 80)\n",
    "print('Sorted methods by score:')\n",
    "print(sorted(results, key=lambda x: x[2], reverse=True))"
   ]
  },
  {
   "cell_type": "markdown",
   "metadata": {
    "pycharm": {
     "name": "#%% md\n"
    }
   },
   "source": [
    "We plot our results."
   ]
  },
  {
   "cell_type": "code",
   "execution_count": 39,
   "metadata": {
    "pycharm": {
     "name": "#%%\n"
    }
   },
   "outputs": [
    {
     "data": {
      "image/png": "[encoded data removed]",
      "text/plain": [
       "<Figure size 864x576 with 1 Axes>"
      ]
     },
     "metadata": {
      "needs_background": "light"
     },
     "output_type": "display_data"
    }
   ],
   "source": [
    "import numpy as np\n",
    "import matplotlib.pyplot as plt\n",
    "\n",
    "indices = np.arange(len(results))\n",
    "\n",
    "results_ = [[x[i] for x in results] for i in range(5)]\n",
    "\n",
    "clf, clf_names, score, training_time, test_time = results_\n",
    "training_time = np.array(training_time) / np.max(training_time)\n",
    "test_time = np.array(test_time) / np.max(test_time)\n",
    "\n",
    "plt.figure(figsize=(12, 8))\n",
    "plt.title(\"Score\")\n",
    "plt.barh(indices, score, .2, label=\"score\", color='navy')\n",
    "plt.barh(indices + .3, training_time, .2, label=\"training time\",\n",
    "         color='c')\n",
    "plt.barh(indices + .6, test_time, .2, label=\"test time\", color='darkorange')\n",
    "plt.yticks(())\n",
    "plt.legend(loc='best')\n",
    "plt.subplots_adjust(left=.25)\n",
    "plt.subplots_adjust(top=.95)\n",
    "plt.subplots_adjust(bottom=.05)\n",
    "\n",
    "for i, c in zip(indices, clf_names):\n",
    "    plt.text(-.3, i, c)\n",
    "\n",
    "plt.tight_layout()\n",
    "plt.savefig('benchmarking_results.png')\n",
    "plt.show()"
   ]
  },
  {
   "cell_type": "markdown",
   "metadata": {},
   "source": [
    "According to results, best classifier is:"
   ]
  },
  {
   "cell_type": "code",
   "execution_count": 40,
   "metadata": {
    "pycharm": {
     "name": "#%%\n"
    }
   },
   "outputs": [
    {
     "name": "stdout",
     "output_type": "stream",
     "text": [
      "LinearSVC(C=1.0, class_weight=None, dual=False, fit_intercept=True,\n",
      "          intercept_scaling=1, loss='squared_hinge', max_iter=1000,\n",
      "          multi_class='ovr', penalty='l1', random_state=None, tol=0.001,\n",
      "          verbose=0)\n"
     ]
    }
   ],
   "source": [
    "bc = sorted(results, key=lambda x: x[2], reverse=True)[0][0]\n",
    "print(bc)"
   ]
  },
  {
   "cell_type": "markdown",
   "metadata": {
    "pycharm": {
     "name": "#%% md\n"
    }
   },
   "source": [
    "Feature Selection can show how many features are representative:"
   ]
  },
  {
   "cell_type": "code",
   "execution_count": 46,
   "metadata": {
    "pycharm": {
     "name": "#%%\n"
    }
   },
   "outputs": [
    {
     "name": "stdout",
     "output_type": "stream",
     "text": [
      "DTM shape: (5752, 14314)\n",
      "================================================================================\n",
      "k: 5000 DTM shape: (5752, 5000)\n",
      "________________________________________________________________________________\n",
      "Training: \n",
      "LinearSVC(C=1.0, class_weight=None, dual=False, fit_intercept=True,\n",
      "          intercept_scaling=1, loss='squared_hinge', max_iter=1000,\n",
      "          multi_class='ovr', penalty='l1', random_state=None, tol=0.001,\n",
      "          verbose=0)\n",
      "train time: 3.141s\n",
      "test time:  0.243s\n",
      "accuracy:   0.795\n",
      "confusion matrix:\n",
      "[[ 7  0  0 ...  0  0  0]\n",
      " [ 0  6  0 ...  0  0  0]\n",
      " [ 0  0 13 ...  0  0  0]\n",
      " ...\n",
      " [ 0  0  0 ...  3  0  0]\n",
      " [ 0  0  0 ...  0  7  0]\n",
      " [ 0  0  0 ...  0  0  7]]\n",
      "\n",
      "================================================================================\n",
      "k: 8000 DTM shape: (5752, 8000)\n",
      "________________________________________________________________________________\n",
      "Training: \n",
      "LinearSVC(C=1.0, class_weight=None, dual=False, fit_intercept=True,\n",
      "          intercept_scaling=1, loss='squared_hinge', max_iter=1000,\n",
      "          multi_class='ovr', penalty='l1', random_state=None, tol=0.001,\n",
      "          verbose=0)\n",
      "train time: 6.333s\n",
      "test time:  0.373s\n",
      "accuracy:   0.793\n",
      "confusion matrix:\n",
      "[[ 7  0  0 ...  0  0  0]\n",
      " [ 0  6  0 ...  0  0  0]\n",
      " [ 0  0 13 ...  0  0  0]\n",
      " ...\n",
      " [ 0  0  0 ...  3  0  0]\n",
      " [ 0  0  0 ...  0  7  0]\n",
      " [ 0  0  0 ...  0  0  7]]\n",
      "\n",
      "================================================================================\n",
      "k: 10000 DTM shape: (5752, 10000)\n",
      "________________________________________________________________________________\n",
      "Training: \n",
      "LinearSVC(C=1.0, class_weight=None, dual=False, fit_intercept=True,\n",
      "          intercept_scaling=1, loss='squared_hinge', max_iter=1000,\n",
      "          multi_class='ovr', penalty='l1', random_state=None, tol=0.001,\n",
      "          verbose=0)\n",
      "train time: 10.174s\n",
      "test time:  0.556s\n",
      "accuracy:   0.794\n",
      "confusion matrix:\n",
      "[[ 7  0  0 ...  0  0  0]\n",
      " [ 0  6  0 ...  0  0  0]\n",
      " [ 0  0 13 ...  0  0  0]\n",
      " ...\n",
      " [ 0  0  0 ...  3  0  0]\n",
      " [ 0  0  0 ...  0  7  0]\n",
      " [ 0  0  0 ...  0  0  7]]\n",
      "\n",
      "================================================================================\n",
      "k: 12000 DTM shape: (5752, 12000)\n",
      "________________________________________________________________________________\n",
      "Training: \n",
      "LinearSVC(C=1.0, class_weight=None, dual=False, fit_intercept=True,\n",
      "          intercept_scaling=1, loss='squared_hinge', max_iter=1000,\n",
      "          multi_class='ovr', penalty='l1', random_state=None, tol=0.001,\n",
      "          verbose=0)\n",
      "train time: 12.136s\n",
      "test time:  0.556s\n",
      "accuracy:   0.794\n",
      "confusion matrix:\n",
      "[[ 7  0  0 ...  0  0  0]\n",
      " [ 0  6  0 ...  0  0  0]\n",
      " [ 0  0 13 ...  0  0  0]\n",
      " ...\n",
      " [ 0  0  0 ...  3  0  0]\n",
      " [ 0  0  0 ...  0  7  0]\n",
      " [ 0  0  0 ...  0  0  7]]\n",
      "\n"
     ]
    }
   ],
   "source": [
    "import pandas as pd\n",
    "from sklearn.feature_selection import SelectKBest\n",
    "from sklearn.feature_selection import chi2\n",
    "from sklearn.model_selection import train_test_split\n",
    "\n",
    "dtm_df = pd.DataFrame(dtm.todense())\n",
    "print('DTM shape:', dtm_df.shape)\n",
    "\n",
    "results = []\n",
    "for k in [5000, 8000, 10000, 12000]:\n",
    "    print('=' * 80)\n",
    "    dtm_fs = SelectKBest(chi2, k=k).fit_transform(dtm_df, cell_class_list)\n",
    "    print('k:', k, 'DTM shape:', dtm_fs.shape)\n",
    "    # Divide in train and test sets\n",
    "    X_train, X_test, y_train, y_test = train_test_split(dtm_fs, cell_class_list, test_size=0.3, random_state=42,\n",
    "                                                    shuffle=True)\n",
    "    clf = LinearSVC(penalty=\"l1\", dual=False, tol=1e-3)\n",
    "    results.append(benchmark(clf, 'LinearSVC'))\n"
   ]
  },
  {
   "cell_type": "code",
   "execution_count": null,
   "metadata": {},
   "outputs": [],
   "source": []
  }
 ],
 "metadata": {
  "kernelspec": {
   "display_name": "Python 3",
   "language": "python",
   "name": "python3"
  },
  "language_info": {
   "codemirror_mode": {
    "name": "ipython",
    "version": 3
   },
   "file_extension": ".py",
   "mimetype": "text/x-python",
   "name": "python",
   "nbconvert_exporter": "python",
   "pygments_lexer": "ipython3",
   "version": "3.7.6"
  }
 },
 "nbformat": 4,
 "nbformat_minor": 1
}